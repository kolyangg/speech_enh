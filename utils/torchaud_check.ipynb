{
 "cells": [
  {
   "cell_type": "code",
   "execution_count": 1,
   "id": "80ba0e39",
   "metadata": {},
   "outputs": [
    {
     "name": "stdout",
     "output_type": "stream",
     "text": [
      "current backend : None\n",
      "available       : ['ffmpeg', 'soundfile']\n"
     ]
    },
    {
     "name": "stderr",
     "output_type": "stream",
     "text": [
      "/tmp/ipykernel_1063612/909586380.py:3: UserWarning: torchaudio._backend.get_audio_backend has been deprecated. With dispatcher enabled, this function is no-op. You can remove the function call.\n",
      "  print(\"current backend :\", torchaudio.get_audio_backend())   # str or None\n"
     ]
    }
   ],
   "source": [
    "import torchaudio\n",
    "\n",
    "print(\"current backend :\", torchaudio.get_audio_backend())   # str or None\n",
    "print(\"available       :\", torchaudio.list_audio_backends())  # ['sox_io', 'soundfile', ...]\n"
   ]
  }
 ],
 "metadata": {
  "kernelspec": {
   "display_name": "universe",
   "language": "python",
   "name": "python3"
  },
  "language_info": {
   "codemirror_mode": {
    "name": "ipython",
    "version": 3
   },
   "file_extension": ".py",
   "mimetype": "text/x-python",
   "name": "python",
   "nbconvert_exporter": "python",
   "pygments_lexer": "ipython3",
   "version": "3.10.16"
  }
 },
 "nbformat": 4,
 "nbformat_minor": 5
}
